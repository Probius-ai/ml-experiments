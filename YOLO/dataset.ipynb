{
 "cells": [
  {
   "cell_type": "code",
   "execution_count": null,
   "metadata": {},
   "outputs": [],
   "source": [
    "import os\n",
    "import glob\n",
    "from pathlib import Path\n",
    "\n",
    "# YOLO 포맷 데이터셋 저장 경로\n",
    "dataset_root = \"archive\"\n",
    "output_dir = \"yolo_dataset\"\n",
    "os.makedirs(output_dir, exist_ok=True)\n",
    "\n",
    "# YOLO 데이터셋 구조 생성\n",
    "for split in [\"train\", \"test\", \"validation\"]:\n",
    "    os.makedirs(f\"{output_dir}/images/{split}\", exist_ok=True)\n",
    "    os.makedirs(f\"{output_dir}/labels/{split}\", exist_ok=True)\n",
    "\n",
    "# 클래스 목록 자동 탐색\n",
    "class_names = sorted(next(os.walk(f\"{dataset_root}/train\"))[1])  # train 폴더의 하위 폴더가 클래스\n",
    "\n",
    "# 클래스 이름을 ID로 매핑\n",
    "class_to_id = {name: idx for idx, name in enumerate(class_names)}\n",
    "print(\"클래스 매핑:\", class_to_id)\n",
    "\n",
    "# 이미지 및 라벨 변환 함수\n",
    "def convert_to_yolo_format(image_path, class_id, output_label_dir):\n",
    "    label_file = Path(output_label_dir) / f\"{Path(image_path).stem}.txt\"\n",
    "    with open(label_file, \"w\") as f:\n",
    "        # 현재는 Bounding Box 정보가 없으므로, 임시로 전체 이미지(0 0.5 0.5 1.0 1.0)로 설정\n",
    "        f.write(f\"{class_id} 0.5 0.5 1.0 1.0\\n\")\n",
    "\n",
    "# 데이터 변환 실행\n",
    "for split in [\"train\", \"test\", \"validation\"]:\n",
    "    split_path = os.path.join(dataset_root, split)\n",
    "\n",
    "    for class_name in class_names:\n",
    "        class_id = class_to_id[class_name]\n",
    "        image_paths = glob.glob(f\"{split_path}/{class_name}/*.jpg\")\n",
    "\n",
    "        for img_path in image_paths:\n",
    "            # 이미지 복사\n",
    "            img_output_path = f\"{output_dir}/images/{split}/{Path(img_path).name}\"\n",
    "            os.system(f\"cp {img_path} {img_output_path}\")\n",
    "\n",
    "            # YOLO 라벨 생성\n",
    "            convert_to_yolo_format(img_path, class_id, f\"{output_dir}/labels/{split}\")\n",
    "\n",
    "print(\"✅ 데이터 변환 완료! YOLO 형식으로 저장됨.\")\n"
   ]
  },
  {
   "cell_type": "code",
   "execution_count": null,
   "metadata": {},
   "outputs": [],
   "source": [
    "# dataset.yaml 생성\n",
    "dataset_yaml = f\"{output_dir}/dataset.yaml\"\n",
    "\n",
    "with open(dataset_yaml, \"w\") as f:\n",
    "    f.write(f\"train: {output_dir}/images/train\\n\")\n",
    "    f.write(f\"val: {output_dir}/images/validation\\n\")\n",
    "    f.write(f\"test: {output_dir}/images/test\\n\\n\")\n",
    "    f.write(f\"nc: {len(class_names)}\\n\")\n",
    "    f.write(f\"names: {class_names}\\n\")\n",
    "\n",
    "print(f\"✅ {dataset_yaml} 생성 완료!\")\n"
   ]
  }
 ],
 "metadata": {
  "kernelspec": {
   "display_name": ".venv",
   "language": "python",
   "name": "python3"
  },
  "language_info": {
   "name": "python",
   "version": "3.12.2"
  }
 },
 "nbformat": 4,
 "nbformat_minor": 2
}
